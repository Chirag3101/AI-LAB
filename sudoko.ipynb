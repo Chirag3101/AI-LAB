{
  "nbformat": 4,
  "nbformat_minor": 0,
  "metadata": {
    "colab": {
      "name": "sudoko.ipynb",
      "provenance": [],
      "authorship_tag": "ABX9TyOoxh95qf9WqLmC6Gfs/k2M",
      "include_colab_link": true
    },
    "kernelspec": {
      "name": "python3",
      "display_name": "Python 3"
    },
    "language_info": {
      "name": "python"
    }
  },
  "cells": [
    {
      "cell_type": "markdown",
      "metadata": {
        "id": "view-in-github",
        "colab_type": "text"
      },
      "source": [
        "<a href=\"https://colab.research.google.com/github/Chirag3101/AI-LAB/blob/main/sudoko.ipynb\" target=\"_parent\"><img src=\"https://colab.research.google.com/assets/colab-badge.svg\" alt=\"Open In Colab\"/></a>"
      ]
    },
    {
      "cell_type": "code",
      "execution_count": 1,
      "metadata": {
        "colab": {
          "base_uri": "https://localhost:8080/"
        },
        "id": "u9Rbu_0JNkP_",
        "outputId": "d9be935f-39a7-47c3-a3dd-af18fe48e94f"
      },
      "outputs": [
        {
          "output_type": "stream",
          "name": "stdout",
          "text": [
            "7 5 1 8 9 2 4 6 3 \n",
            "2 3 6 1 7 4 8 9 5 \n",
            "8 9 4 5 6 3 1 7 2 \n",
            "6 4 5 3 2 9 7 1 8 \n",
            "1 2 9 4 8 7 3 5 6 \n",
            "3 7 8 6 5 1 2 4 9 \n",
            "9 1 7 2 3 5 6 8 4 \n",
            "5 6 2 7 4 8 9 3 1 \n",
            "4 8 3 9 1 6 5 2 7 \n"
          ]
        }
      ],
      "source": [
        "board = [\n",
        "    [0, 0, 0, 8, 0, 0, 4, 0, 3],\n",
        "    [2, 0, 0, 0, 0, 4, 8, 9, 0],\n",
        "    [0, 9, 0, 0, 0, 0, 0, 0, 2],\n",
        "    [0, 0, 0, 0, 2, 9, 0, 1, 0],\n",
        "    [0, 0, 0, 0, 0, 0, 0, 0, 0],\n",
        "    [0, 7, 0, 6, 5, 0, 0, 0, 0],\n",
        "    [9, 0, 0, 0, 0, 0, 0, 8, 0],\n",
        "    [0, 6, 2, 7, 0, 0, 0, 0, 1],\n",
        "    [4, 0, 3, 0, 0, 6, 0, 0, 0]\n",
        "]\n",
        "\n",
        "def printBoard(board):\n",
        "    for i in range(0, 9):\n",
        "        for j in range(0, 9):\n",
        "            print(board[i][j], end=\" \")\n",
        "        print()\n",
        "\n",
        "def isPossible(board, row, col, val):\n",
        "    for j in range(0, 9):\n",
        "        if board[row][j] == val:\n",
        "            return False\n",
        "\n",
        "    for i in range(0, 9):\n",
        "        if board[i][col] == val:\n",
        "            return False\n",
        "\n",
        "    startRow = (row // 3) * 3\n",
        "    startCol = (col // 3) * 3\n",
        "    for i in range(0, 3):\n",
        "        for j in range(0, 3):\n",
        "            if board[startRow+i][startCol+j] == val:\n",
        "                return False\n",
        "    return True\n",
        "\n",
        "def solve():\n",
        "    for i in range(0, 9):\n",
        "        for j in range(0, 9):\n",
        "            if board[i][j] == 0:\n",
        "                for val in range(1, 10):\n",
        "                    if isPossible(board, i, j, val):\n",
        "                        board[i][j] = val\n",
        "                        solve()\n",
        "\n",
        "                        # Bad choice, make it blank and check again\n",
        "                        board[i][j] = 0\n",
        "                return\n",
        "    # We found a solution, print it            \n",
        "    printBoard(board)\n",
        "\n",
        "solve()"
      ]
    }
  ]
}